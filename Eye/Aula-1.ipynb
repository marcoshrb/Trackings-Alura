{
 "cells": [
  {
   "cell_type": "code",
   "execution_count": 1,
   "metadata": {},
   "outputs": [
    {
     "name": "stdout",
     "output_type": "stream",
     "text": [
      "Collecting opencv-python==4.6.0.66\n",
      "  Downloading opencv_python-4.6.0.66-cp36-abi3-win_amd64.whl (35.6 MB)\n",
      "Requirement already satisfied: numpy>=1.19.3 in c:\\users\\mirla\\anaconda3\\lib\\site-packages (from opencv-python==4.6.0.66) (1.21.5)\n",
      "Installing collected packages: opencv-python\n",
      "Successfully installed opencv-python-4.6.0.66\n",
      "Collecting mediapipe==0.8.11\n",
      "  Downloading mediapipe-0.8.11-cp39-cp39-win_amd64.whl (49.0 MB)\n",
      "Requirement already satisfied: matplotlib in c:\\users\\mirla\\anaconda3\\lib\\site-packages (from mediapipe==0.8.11) (3.5.1)\n",
      "Collecting opencv-contrib-python\n",
      "  Downloading opencv_contrib_python-4.6.0.66-cp36-abi3-win_amd64.whl (42.5 MB)\n",
      "Requirement already satisfied: protobuf<4,>=3.11 in c:\\users\\mirla\\anaconda3\\lib\\site-packages (from mediapipe==0.8.11) (3.19.1)\n",
      "Requirement already satisfied: numpy in c:\\users\\mirla\\anaconda3\\lib\\site-packages (from mediapipe==0.8.11) (1.21.5)\n",
      "Requirement already satisfied: attrs>=19.1.0 in c:\\users\\mirla\\anaconda3\\lib\\site-packages (from mediapipe==0.8.11) (21.4.0)\n",
      "Collecting absl-py\n",
      "  Downloading absl_py-1.3.0-py3-none-any.whl (124 kB)\n",
      "Requirement already satisfied: packaging>=20.0 in c:\\users\\mirla\\anaconda3\\lib\\site-packages (from matplotlib->mediapipe==0.8.11) (21.3)\n",
      "Requirement already satisfied: pillow>=6.2.0 in c:\\users\\mirla\\anaconda3\\lib\\site-packages (from matplotlib->mediapipe==0.8.11) (9.0.1)\n",
      "Requirement already satisfied: fonttools>=4.22.0 in c:\\users\\mirla\\anaconda3\\lib\\site-packages (from matplotlib->mediapipe==0.8.11) (4.25.0)\n",
      "Requirement already satisfied: pyparsing>=2.2.1 in c:\\users\\mirla\\anaconda3\\lib\\site-packages (from matplotlib->mediapipe==0.8.11) (3.0.4)\n",
      "Requirement already satisfied: cycler>=0.10 in c:\\users\\mirla\\anaconda3\\lib\\site-packages (from matplotlib->mediapipe==0.8.11) (0.11.0)\n",
      "Requirement already satisfied: kiwisolver>=1.0.1 in c:\\users\\mirla\\anaconda3\\lib\\site-packages (from matplotlib->mediapipe==0.8.11) (1.3.2)\n",
      "Requirement already satisfied: python-dateutil>=2.7 in c:\\users\\mirla\\anaconda3\\lib\\site-packages (from matplotlib->mediapipe==0.8.11) (2.8.2)\n",
      "Requirement already satisfied: six>=1.5 in c:\\users\\mirla\\anaconda3\\lib\\site-packages (from python-dateutil>=2.7->matplotlib->mediapipe==0.8.11) (1.16.0)\n",
      "Installing collected packages: opencv-contrib-python, absl-py, mediapipe\n",
      "Successfully installed absl-py-1.3.0 mediapipe-0.8.11 opencv-contrib-python-4.6.0.66\n",
      "Collecting numpy==1.22.3\n",
      "  Downloading numpy-1.22.3-cp39-cp39-win_amd64.whl (14.7 MB)\n",
      "Installing collected packages: numpy\n",
      "  Attempting uninstall: numpy\n",
      "    Found existing installation: numpy 1.21.5\n",
      "    Uninstalling numpy-1.21.5:\n",
      "      Successfully uninstalled numpy-1.21.5\n",
      "Successfully installed numpy-1.22.3\n"
     ]
    },
    {
     "name": "stderr",
     "output_type": "stream",
     "text": [
      "ERROR: pip's dependency resolver does not currently take into account all the packages that are installed. This behaviour is the source of the following dependency conflicts.\n",
      "daal4py 2021.5.0 requires daal==2021.4.0, which is not installed.\n",
      "numba 0.55.1 requires numpy<1.22,>=1.18, but you have numpy 1.22.3 which is incompatible.\n"
     ]
    }
   ],
   "source": [
    "!pip install opencv-python==4.6.0.66\n",
    "!pip install mediapipe==0.8.11\n",
    "!pip install numpy==1.22.3"
   ]
  },
  {
   "cell_type": "code",
   "execution_count": 5,
   "metadata": {},
   "outputs": [],
   "source": [
    "import cv2\n",
    "import mediapipe as mp"
   ]
  },
  {
   "cell_type": "code",
   "execution_count": 6,
   "metadata": {},
   "outputs": [],
   "source": [
    "mp_drawing = mp.solutions.drawing_utils\n",
    "mp_face_mesh = mp.solutions.face_mesh"
   ]
  },
  {
   "cell_type": "code",
   "execution_count": 13,
   "metadata": {},
   "outputs": [],
   "source": [
    "cap = cv2.VideoCapture(1)\n",
    "\n",
    "with mp_face_mesh.FaceMesh(min_detection_confidence=0.5, min_tracking_confidence=0.5) as facemesh:\n",
    "    while cap.isOpened():\n",
    "        sucesso, frame = cap.read()\n",
    "        if not sucesso:\n",
    "            print('Ignorando o frame vazio da câmera.')\n",
    "            continue\n",
    "        frame = cv2.cvtColor(frame, cv2.COLOR_BGR2RGB)\n",
    "        saida_facemesh = facemesh.process(frame)\n",
    "        frame = cv2.cvtColor(frame, cv2.COLOR_RGB2BGR)\n",
    "        \n",
    "        try:\n",
    "            for face_landmarks in saida_facemesh.multi_face_landmarks:\n",
    "                mp_drawing.draw_landmarks(frame, face_landmarks, mp_face_mesh.FACEMESH_CONTOURS,\n",
    "                    landmark_drawing_spec = mp_drawing.DrawingSpec(color=(255,102,102),thickness=1,circle_radius=1),\n",
    "                    connection_drawing_spec = mp_drawing.DrawingSpec(color=(102,204,0),thickness=1,circle_radius=1))\n",
    "        except:\n",
    "            pass\n",
    "\n",
    "        cv2.imshow('Camera',frame)\n",
    "        if cv2.waitKey(10) & 0xFF == ord('c'):\n",
    "            break\n",
    "cap.release()\n",
    "cv2.destroyAllWindows()"
   ]
  },
  {
   "cell_type": "code",
   "execution_count": null,
   "metadata": {},
   "outputs": [],
   "source": []
  }
 ],
 "metadata": {
  "kernelspec": {
   "display_name": "Python 3.9.12 ('base')",
   "language": "python",
   "name": "python3"
  },
  "language_info": {
   "codemirror_mode": {
    "name": "ipython",
    "version": 3
   },
   "file_extension": ".py",
   "mimetype": "text/x-python",
   "name": "python",
   "nbconvert_exporter": "python",
   "pygments_lexer": "ipython3",
   "version": "3.9.12"
  },
  "orig_nbformat": 4,
  "vscode": {
   "interpreter": {
    "hash": "657fedcff07eaeece73f1e2e3c2cb002e74ee536e02538f0047f0504538abd92"
   }
  }
 },
 "nbformat": 4,
 "nbformat_minor": 2
}
